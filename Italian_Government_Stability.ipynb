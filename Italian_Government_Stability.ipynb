{
 "cells": [
  {
   "cell_type": "markdown",
   "id": "a8901dcc-3363-405a-b5c2-5716b081b4f4",
   "metadata": {},
   "source": [
    "<h1> Stability of the Italian Government </h1>\n",
    "<h3> Davide Cremonini </h3> \n",
    "<h3>Foundamentals of Artificial Intelligence - Module 3 Project </h3>"
   ]
  },
  {
   "cell_type": "markdown",
   "id": "064e94dd-b125-42db-9666-d00a0e7e1412",
   "metadata": {},
   "source": [
    "<p>This project aims at the definition of a Bayesian Network which captures the causal links between purely statistichal data of past Italian governments in an attempt to predict instability conditions for the future ones.</p>"
   ]
  },
  {
   "cell_type": "code",
   "execution_count": 1,
   "id": "e2bb40fd-8514-4bad-891d-1f1d469ddf89",
   "metadata": {},
   "outputs": [],
   "source": [
    "#First we import every library which will be used\n",
    "import pandas as pd\n",
    "import networkx as nx\n",
    "import matplotlib.pyplot as plt\n",
    "from pgmpy.models import BayesianNetwork\n",
    "from pgmpy.inference import VariableElimination, BeliefPropagation"
   ]
  },
  {
   "cell_type": "code",
   "execution_count": 2,
   "id": "7618036d-dd21-427a-b6f9-a3aa31adc422",
   "metadata": {},
   "outputs": [
    {
     "data": {
      "text/html": [
       "<div>\n",
       "<style scoped>\n",
       "    .dataframe tbody tr th:only-of-type {\n",
       "        vertical-align: middle;\n",
       "    }\n",
       "\n",
       "    .dataframe tbody tr th {\n",
       "        vertical-align: top;\n",
       "    }\n",
       "\n",
       "    .dataframe thead th {\n",
       "        text-align: right;\n",
       "    }\n",
       "</style>\n",
       "<table border=\"1\" class=\"dataframe\">\n",
       "  <thead>\n",
       "    <tr style=\"text-align: right;\">\n",
       "      <th></th>\n",
       "      <th>Gov Name</th>\n",
       "      <th>Time in Charge</th>\n",
       "      <th>Effective Time in Charge</th>\n",
       "      <th>House Majority</th>\n",
       "      <th>House Opposition</th>\n",
       "      <th>Senate Majority</th>\n",
       "      <th>Senate Opposition</th>\n",
       "      <th>N° of VP</th>\n",
       "      <th>N° Ministers</th>\n",
       "      <th>N° Ministers without portfolio</th>\n",
       "      <th>...</th>\n",
       "      <th>First Year</th>\n",
       "      <th>Legislation</th>\n",
       "      <th>Confidence</th>\n",
       "      <th>Fall Cause</th>\n",
       "      <th>PM from Largest Majority Party</th>\n",
       "      <th>Technocrat/Independent PM</th>\n",
       "      <th>N° Majority Parties</th>\n",
       "      <th>N° Opposition Parties</th>\n",
       "      <th>DI Parties in Government</th>\n",
       "      <th>Tot Gov. Members</th>\n",
       "    </tr>\n",
       "  </thead>\n",
       "  <tbody>\n",
       "    <tr>\n",
       "      <th>0</th>\n",
       "      <td>De Gasperi V</td>\n",
       "      <td>613.0</td>\n",
       "      <td>598.0</td>\n",
       "      <td>369.0</td>\n",
       "      <td>205.0</td>\n",
       "      <td>156.0</td>\n",
       "      <td>237.0</td>\n",
       "      <td>3.0</td>\n",
       "      <td>17.0</td>\n",
       "      <td>2.0</td>\n",
       "      <td>...</td>\n",
       "      <td>1948.0</td>\n",
       "      <td>1.0</td>\n",
       "      <td>True</td>\n",
       "      <td>External Pressure</td>\n",
       "      <td>True</td>\n",
       "      <td>False</td>\n",
       "      <td>5.0</td>\n",
       "      <td>5.0</td>\n",
       "      <td>0.65</td>\n",
       "      <td>23.0</td>\n",
       "    </tr>\n",
       "    <tr>\n",
       "      <th>1</th>\n",
       "      <td>De Gasperi VI</td>\n",
       "      <td>545.0</td>\n",
       "      <td>535.0</td>\n",
       "      <td>336.0</td>\n",
       "      <td>238.0</td>\n",
       "      <td>149.0</td>\n",
       "      <td>88.0</td>\n",
       "      <td>0.0</td>\n",
       "      <td>17.0</td>\n",
       "      <td>3.0</td>\n",
       "      <td>...</td>\n",
       "      <td>1950.0</td>\n",
       "      <td>1.0</td>\n",
       "      <td>True</td>\n",
       "      <td>Internal Struggle</td>\n",
       "      <td>True</td>\n",
       "      <td>False</td>\n",
       "      <td>4.0</td>\n",
       "      <td>7.0</td>\n",
       "      <td>0.48</td>\n",
       "      <td>21.0</td>\n",
       "    </tr>\n",
       "    <tr>\n",
       "      <th>2</th>\n",
       "      <td>De Gasperi VII</td>\n",
       "      <td>721.0</td>\n",
       "      <td>704.0</td>\n",
       "      <td>317.0</td>\n",
       "      <td>257.0</td>\n",
       "      <td>139.0</td>\n",
       "      <td>98.0</td>\n",
       "      <td>1.0</td>\n",
       "      <td>17.0</td>\n",
       "      <td>2.0</td>\n",
       "      <td>...</td>\n",
       "      <td>1951.0</td>\n",
       "      <td>1.0</td>\n",
       "      <td>True</td>\n",
       "      <td>End of Legislation</td>\n",
       "      <td>True</td>\n",
       "      <td>False</td>\n",
       "      <td>3.0</td>\n",
       "      <td>7.0</td>\n",
       "      <td>0.26</td>\n",
       "      <td>21.0</td>\n",
       "    </tr>\n",
       "    <tr>\n",
       "      <th>3</th>\n",
       "      <td>De Gasperi VIII</td>\n",
       "      <td>32.0</td>\n",
       "      <td>12.0</td>\n",
       "      <td>263.0</td>\n",
       "      <td>327.0</td>\n",
       "      <td>116.0</td>\n",
       "      <td>12.0</td>\n",
       "      <td>1.0</td>\n",
       "      <td>16.0</td>\n",
       "      <td>2.0</td>\n",
       "      <td>...</td>\n",
       "      <td>1953.0</td>\n",
       "      <td>2.0</td>\n",
       "      <td>False</td>\n",
       "      <td>No confidence</td>\n",
       "      <td>True</td>\n",
       "      <td>False</td>\n",
       "      <td>1.0</td>\n",
       "      <td>8.0</td>\n",
       "      <td>0.00</td>\n",
       "      <td>20.0</td>\n",
       "    </tr>\n",
       "    <tr>\n",
       "      <th>4</th>\n",
       "      <td>Pella</td>\n",
       "      <td>155.0</td>\n",
       "      <td>141.0</td>\n",
       "      <td>324.0</td>\n",
       "      <td>266.0</td>\n",
       "      <td>141.0</td>\n",
       "      <td>102.0</td>\n",
       "      <td>0.0</td>\n",
       "      <td>16.0</td>\n",
       "      <td>2.0</td>\n",
       "      <td>...</td>\n",
       "      <td>1953.0</td>\n",
       "      <td>2.0</td>\n",
       "      <td>True</td>\n",
       "      <td>Internal Struggle</td>\n",
       "      <td>True</td>\n",
       "      <td>False</td>\n",
       "      <td>5.0</td>\n",
       "      <td>4.0</td>\n",
       "      <td>0.00</td>\n",
       "      <td>19.0</td>\n",
       "    </tr>\n",
       "  </tbody>\n",
       "</table>\n",
       "<p>5 rows × 26 columns</p>\n",
       "</div>"
      ],
      "text/plain": [
       "          Gov Name  Time in Charge  Effective Time in Charge  House Majority  \\\n",
       "0     De Gasperi V           613.0                     598.0           369.0   \n",
       "1    De Gasperi VI           545.0                     535.0           336.0   \n",
       "2   De Gasperi VII           721.0                     704.0           317.0   \n",
       "3  De Gasperi VIII            32.0                      12.0           263.0   \n",
       "4            Pella           155.0                     141.0           324.0   \n",
       "\n",
       "   House Opposition  Senate Majority  Senate Opposition  N° of VP  \\\n",
       "0             205.0            156.0              237.0       3.0   \n",
       "1             238.0            149.0               88.0       0.0   \n",
       "2             257.0            139.0               98.0       1.0   \n",
       "3             327.0            116.0               12.0       1.0   \n",
       "4             266.0            141.0              102.0       0.0   \n",
       "\n",
       "   N° Ministers  N° Ministers without portfolio  ...  First Year  Legislation  \\\n",
       "0          17.0                             2.0  ...      1948.0          1.0   \n",
       "1          17.0                             3.0  ...      1950.0          1.0   \n",
       "2          17.0                             2.0  ...      1951.0          1.0   \n",
       "3          16.0                             2.0  ...      1953.0          2.0   \n",
       "4          16.0                             2.0  ...      1953.0          2.0   \n",
       "\n",
       "   Confidence          Fall Cause  PM from Largest Majority Party  \\\n",
       "0        True   External Pressure                            True   \n",
       "1        True   Internal Struggle                            True   \n",
       "2        True  End of Legislation                            True   \n",
       "3       False       No confidence                            True   \n",
       "4        True   Internal Struggle                            True   \n",
       "\n",
       "  Technocrat/Independent PM  N° Majority Parties  N° Opposition Parties  \\\n",
       "0                     False                  5.0                    5.0   \n",
       "1                     False                  4.0                    7.0   \n",
       "2                     False                  3.0                    7.0   \n",
       "3                     False                  1.0                    8.0   \n",
       "4                     False                  5.0                    4.0   \n",
       "\n",
       "  DI Parties in Government Tot Gov. Members  \n",
       "0                     0.65             23.0  \n",
       "1                     0.48             21.0  \n",
       "2                     0.26             21.0  \n",
       "3                     0.00             20.0  \n",
       "4                     0.00             19.0  \n",
       "\n",
       "[5 rows x 26 columns]"
      ]
     },
     "execution_count": 2,
     "metadata": {},
     "output_type": "execute_result"
    }
   ],
   "source": [
    "#Reading and showing the dataset, performing NaN rows cleanup\n",
    "df = pd.read_csv(\"Dataset_Governi_OK.csv\", sep=';', decimal=',', true_values=['T', 'P'], false_values=['F'])\n",
    "df=df.dropna(axis=0, how='all')\n",
    "df.head()"
   ]
  },
  {
   "cell_type": "markdown",
   "id": "e0862275-3230-4240-a0e3-64d5982274e7",
   "metadata": {},
   "source": [
    "<h4>The dataset</h4>\n",
    "<div>The dataset contains data on all of the 64 governments that lead Italy from the First Legislation to the Eighteenth.\n",
    "This dataset was built by myself using the information found on the following sitse:<br>\n",
    "    https://www.governo.it/it/i-governi-dal-1943-ad-oggi/191<br>\n",
    "    https://www.senato.it/legislature/repubblica/governi-della-repubblica<br>\n",
    "    https://it.wikipedia.org/wiki/Template:Governi_della_Repubblica_Italiana<br>\n",
    "</div><br>\n",
    "<div>\n",
    "There are a total of 26 columns in the dataset:\n",
    "<ol>\n",
    "    <li><b>Gov Name</b>, the official government name, which derives from the surname of the Prime Minister.</li>\n",
    "    <li><b>Time in Charge</b>, the number of days the government officially held power from its oath of office to the next one.</li>\n",
    "    <li><b>Effective Time in Charge</b>, the number of days the government was actually in charge, from its oath of office to the resignation of the Prime Minister</li>\n",
    "    <li><b>House Majority</b>, the number of House of Representatives voters which gave confidence to the government at the beginning of its office.</li>\n",
    "    <li><b>House Opposition</b>, the number of House of Representatives voters which denied confidence or abstained to the government at the beginning of its office.</li>\n",
    "    <li><b>Senate Majority</b>, the number of Senate of the Republic voters which gave confidence to the government at the beginning of its office.</li>\n",
    "    <li><b>Senate Opposition</b>, the number of Senate of the Republic voters which denied confidence or abstained to the government at the beginning of its office.</li>\n",
    "    <li><b>N° of VP</b>, the number of Vice-Prime Ministers each government had, it's mostly an honorific title given to the leaders of a lesser coalition party.</li>\n",
    "    <li><b>N° of Ministers</b>, the number of Ministers each government had, they are usually present in every government, regardless of the political agenda.</li>\n",
    "    <li><b>N° of Ministers without portfolio</b>, the number of Ministers without Portfolio each government had, theier roles change in every government as they are an expression of the political agenda of said government.</li>\n",
    "    <li><b>Swapped Ministers</b>, the number of times a minister was changed during the office, this may have happened for different reasons, like resignation or death of said minister.</li>\n",
    "    <li><b>DI House Majority</b>, the majority's diversity in the House of Representatives when the government asked for confidence. It is expressed according to Simpson's Diversity index, which takes into consideration each party as a different species and the number of voters it contained as the frequency for each species.</li>\n",
    "    <li><b>DI House Opposition</b>, the opposition's diversity in the House of the Representatives, according to the SDI.</li>\n",
    "    <li><b>DI Senate Majority</b>, the majority's diversity in the Senate of the Republic, according to the SDI.</li>\n",
    "    <li><b>DI Senate Opposition</b>, the opposition's diversity in the Senate of the Republic, according to the SDI.</li>\n",
    "    <li><b>End of the Legislation</b>, a boolean value which expresses whether or not one government was the last of its legislation.</li>\n",
    "    <li><b>First Year</b>, the year number in which the government swore office.</li>\n",
    "    <li><b>Legislation</b>, the number of parliamentary legislation which was present when the governement took office.</li>\n",
    "    <li><b>Confidence</b>, a boolean which expresses whether or not each government gained confidence from both houses of the Parliament.</li>\n",
    "    <li><b>Fall Reason</b>, a summarized short description which tries to explain which was the main cause for the government fall.</li>\n",
    "    <li><b>PM from Largest Majority Party</b>, a boolean which expresses whether or not each government's PM was a member of the largest party of the coalition.</li>\n",
    "    <li><b>Technocrat/Independent PM</b>, a boolean which expresses whether or not the Prime Minister of each government was not a member of any of parties inside the coalition (Independent) or, in case he was completely external from the political activity, a so called 'Technocrat PM'.</li>\n",
    "    <li><b>N° Majority Parties</b>, the number of parties which mostly voted for giving confidence to the government.</li>\n",
    "    <li><b>N° Opposition Parties</b>, the number of parties which denied or abstained from giving confidence to the government.</li>\n",
    "    <li><b>DI Parties in Government</b>, party diversity inside the government seats, according to SDI using the parties as species and the numbers of PM, and Ministers as frequency.</li>\n",
    "    <li><b>Tot Gov. Members</b>, total number of government members, a sum of values included in 'N° of VP', 'N° of Ministers' and 'N° of Ministers without Portfolio', plus one for the Prime Minister</li>\n",
    "</ol>\n",
    "</div>"
   ]
  },
  {
   "cell_type": "code",
   "execution_count": 3,
   "id": "b3f24426-3988-4530-aa1f-7a2b0e9942d5",
   "metadata": {},
   "outputs": [],
   "source": [
    "#Pre-prorcessing Actvities\n",
    "\n",
    "#Changing Majority and Opposition numbers in both Houses to a unique percentage for both.\n",
    "percentages = []\n",
    "for i in range(len(df)):\n",
    "    tot_seats = df['House Majority'][i] + df['House Opposition'][i] + df['Senate Majority'][i] + df['Senate Opposition'][i] \n",
    "    perc_m = int(round((df['House Majority'].iloc[i]+df['Senate Majority'].iloc[i])/tot_seats,2)*100)\n",
    "    perc_o = int(round((df['House Opposition'].iloc[i]+df['Senate Opposition'].iloc[i])/tot_seats,2)*100)\n",
    "    percentages.append([perc_m, perc_o])\n",
    "perc_df = pd.DataFrame(percentages, columns=['Tot % Majority','Tot % Opposition'])\n",
    "df = pd.concat([df.drop(['House Majority', 'House Opposition', 'Senate Majority', 'Senate Opposition'], axis=1), perc_df], axis=1)\n",
    "\n",
    "#Computing the average of SDI between both Houses for Majority and Opposition.\n",
    "dis = []\n",
    "for i in range(len(df)):\n",
    "    di_m = int(round((df['DI House Majority'].iloc[i]+df['DI Senate Majority'].iloc[i])/2,2)*100)\n",
    "    di_o = int(round((df['DI House Opposition'].iloc[i]+df['DI Senate Opposition'].iloc[i])/2,2)*100)\n",
    "    dis.append([di_m, di_o])\n",
    "di_df = pd.DataFrame(dis, columns=['Tot DI Majority','Tot DI Opposition'])\n",
    "df = pd.concat([df.drop(['DI House Majority', 'DI House Opposition', 'DI Senate Majority', 'DI Senate Opposition'], axis=1), di_df], axis=1)\n",
    "\n",
    "#Transforming the SDI of government members into a integer.\n",
    "df['DI Parties in Government'] = 100*df['DI Parties in Government']\n",
    "df['DI Parties in Government'] = df['DI Parties in Government'].astype(int)\n",
    "\n",
    "#Dropping the columns which represent the number of Vice-PM, Ministers with and without portfolio as their sum is included in the Tot. Gov. Members column\n",
    "df = df.drop(['N° of VP', 'N° Ministers', 'N° Ministers without portfolio'], axis=1)\n",
    "df['Tot Gov. Members'] = df['Tot Gov. Members'].astype(int)\n",
    "\n",
    "#Dropping non-relevant data\n",
    "df = df.drop(['Gov Name', 'End of Legislation', 'Time in Charge'], axis=1)"
   ]
  },
  {
   "cell_type": "markdown",
   "id": "0dd9aa5e-7041-474e-af50-65f0e4fae326",
   "metadata": {},
   "source": [
    "<h4>Pre-processing Activities</h4>\n",
    "<div>As the dataset was kept as much broad as possible while designing it, in order to be reused in future projects, we have to perform some pre-processing activities to make it suitable for the definition of the Bayesian Network using the pgmpy library. In order to do so we have perform some initial simplification before we can start with the encoding part. This simplification will be necessary to create a more compact and easy to analyse model, at che cost of disregarding some potential causal links but with the objective of letting others emerge.\n",
    "<ul>\n",
    "    <li>The first simplification was the redeuction of the majority and opposition votes, these were converted by summing the two numbers for house and senate for both and then expressing them through the integer percentage they each represent.</li>\n",
    "    <li>Then, a similar procedure was applied to the SDIs for Majority and Opposition which were replaced by their respective macro average for both majority and opposition.</li>\n",
    "    <li>The SDI for government composition was converted into an integer to ease further discretization. </li>\n",
    "    <li>The number of government members, being the sum of other three columns, will only be used as a measure of the size of the government, so its components were be dropped.</li>\n",
    "    <li> Government Name was dropped as it is merely a nominal index.</li>\n",
    "    <li> End of Legislation was dropped as it is already included in Fall Reason.</li>\n",
    "    <li> As we chose to consider the period of actual activity of each governement, for the sake of determining the stability measure, we'll focus only on the Effecive Time in Charge, so Time in Charge was dropped.</li>\n",
    "</ul>\n",
    "    \n",
    "</div>"
   ]
  },
  {
   "cell_type": "code",
   "execution_count": 4,
   "id": "c645290f-fa61-46ac-bad4-9a8de8491c02",
   "metadata": {},
   "outputs": [],
   "source": [
    "#Encoding\n",
    "\n",
    "#Replacing all Booleans with 0 or 1\n",
    "df = df.replace({True:1, False:0})\n",
    "\n",
    "\n",
    "#Replacing Fall Reason with number encoding\n",
    "nominal_replacements = {\n",
    "    'External Pressure':0,\n",
    "    'Internal Struggle':1,\n",
    "    'End of Legislation':2,\n",
    "    'No confidence':3,\n",
    "    'Lost Confidence':4,\n",
    "    'Reshuffle':5,\n",
    "}\n",
    "df = df.replace(nominal_replacements)\n",
    "\n",
    "\n",
    "#Encoding dictionary for non-boolean data\n",
    "encode_dict = {\n",
    "    'Effective Time in Charge': {'Intervals':[0,100,250,450,1000, 10000] ,'Labels':[0,1,2,3,4],},\n",
    "    'Tot % Majority':{'Intervals':[0,50,55,66,100] ,'Labels':[0,1,2,3],},\n",
    "    'Tot % Opposition':{'Intervals':[0,34,44,50,100] ,'Labels':[0,1,2,3],},\n",
    "    'Tot DI Majority':{'Intervals':[-1,0,10,30,75,100] ,'Labels':[0,1,2,3,4],},\n",
    "    'Tot DI Opposition':{'Intervals':[0,20,45,75,100] ,'Labels':[0,1,2,3],},\n",
    "    'DI Parties in Government':{'Intervals':[-1,1,25,55,75,100] ,'Labels':[0,1,2,3,4],},\n",
    "    'Tot Gov. Members':{'Intervals':[0,22,28,100] ,'Labels':[0,1,2],},\n",
    "    'Swapped Ministers':{'Intervals':[-1,0,3,6,20] ,'Labels':[0,1,2,3],},\n",
    "    'N° Majority Parties':{'Intervals':[0,1,4,15] ,'Labels':[0,1,2],},\n",
    "    'N° Opposition Parties':{'Intervals':[0,1,4,15] ,'Labels':[0,1,2],},\n",
    "    'First Year':{'Intervals':[0,1950, 1960,1970,1980, 1990,2000,2010,2020,2030] ,'Labels':[0,1,2,3,4,5,6,7,8],},\n",
    "    'Legislation':{'Intervals':[0,12,50] ,'Labels':[1,2],},\n",
    "}\n",
    "\n",
    "for k in encode_dict.keys():\n",
    "    #print(f\"Encoding data {k} with intervals {encode_dict[k]['Intervals']} and labels:{encode_dict[k]['Labels']}\")\n",
    "    df[k] = pd.DataFrame(pd.cut(df[k].astype(int), encode_dict[k]['Intervals'], labels = encode_dict[k]['Labels']))\n",
    "\n",
    "df = df.astype(int)\n",
    "df.columns = ['Stability', 'Internal Changes', 'Decade', 'Republic Phase', 'Confidence',\n",
    "             'Fall Cause', 'PM from Largest Majority Party', 'Technocrat/Independent PM', 'N° Majority Parties', 'N° Opposition Parties', 'Government Division',\n",
    "             'Size of Government', 'Parliamentary Support', 'Parliamentary Opposition', 'Majority Division', 'Opposition Division']"
   ]
  },
  {
   "cell_type": "markdown",
   "id": "35ffdeb0-ccd0-4c82-a6ec-237fc9fc7746",
   "metadata": {},
   "source": [
    "<h4>Encoding</h4>\n",
    "<div>\n",
    "<p>Discretization is essential to highlight possible relationships between groups of values. In the case of the dataset presented each non-boolean value was reduced into a spceific set of ranges according to conventions or trying to give an ordered and rational separation of values in different categories.</p>\n",
    "<b>Effective Time in Charge:</b> \n",
    "    <ul>\n",
    "    <li>Unstable (0 to 100) ---> 0 </li>\n",
    "    <li>Weak stability (101 to 250) ---> 1 </li>\n",
    "    <li>Average stability (251 to 450) ---> 2 </li>\n",
    "    <li>Solid stabiliy (451 to 1000) ---> 3 </li>\n",
    "    <li>High stability (Over 1000) ---> 4 </li>\n",
    "    </ul>\n",
    "\n",
    "\n",
    "<b>Tot % Majority:</b>\n",
    "    <ul>\n",
    "    <li>No majority (0 to 50) ---> 0 </li>\n",
    "    <li>Weak majorty (51 to 55) ---> 1 </li>\n",
    "    <li>Strong majority (56 to 66) ---> 2 </li>\n",
    "    <li>Constitutional majority (Over 66) ---> 3 </li>\n",
    "    </ul>\n",
    "\n",
    "<b>Tot % Opposition:</b>\n",
    "    <ul>\n",
    "    <li>Weak opposition (0 to 34) ---> 0 </li>\n",
    "    <li>Medium opposition (35 to 44) ---> 1 </li>\n",
    "    <li>Strong opposition (45 to 50) ---> 2 </li>\n",
    "    <li>Potential new majority Over 50) ---> 3</li>\n",
    "    </ul>\n",
    "\n",
    "<b>Tot DI Majority:</b>\n",
    "    <ul>\n",
    "    <li>Single party majority (Only 0) ---> 0 </li>\n",
    "    <li>Nearly one sided majority (1 to 10) ---> 1 </li>\n",
    "    <li>Strong lead majority (11 to 30) ---> 2 </li>\n",
    "    <li>Fragmented majority (31 to 75) ---> 3 </li>\n",
    "    <li>Multi-headed majority (Over 76) ---> 4 </li>\n",
    "    </ul>\n",
    "\n",
    "<b>Tot DI Opposition:</b>\n",
    "    <ul>\n",
    "    <li>Cohesive Opposition (0 to 20) ---> 0 </li>\n",
    "    <li>Diverse Opposition (21 to 45) ---> 1 </li>\n",
    "    <li>Fragmented Opposition (46 to 75) ---> 2 </li>\n",
    "    <li>Higly Fragmented/ Multi-Headed Opposition (Over 76) ---> 3 </li>\n",
    "    </ul>\n",
    "\n",
    "<b>DI Parties in Government:</b>\n",
    "    <ul>\n",
    "    <li>Monochromatic Government (Only 0) ---> 0 </li>\n",
    "    <li>Governement with Leading Party (1 to 25) ---> 1 </li>\n",
    "    <li>Coalition Government (26 to 55) --->  2 </li>\n",
    "    <li>Large Coalition Government (56 to 75) ---> 3 </li>\n",
    "    <li>Super Coalition/National Unity Government (Over 75) ---> 4 </li>\n",
    "    </ul>\n",
    "    \n",
    "<b>Tot Gov. Members:</b>\n",
    "    <ul>\n",
    "    <li>Small Government (Under 22) ---> 0 </li>\n",
    "    <li>Medium Government (23 to 28) ---> 1 </li>\n",
    "    <li>Large Government (Over 29) ---> 2 </li>\n",
    "    </ul>\n",
    "\n",
    "<b>Swapped Ministers:</b>\n",
    "    <ul>\n",
    "    <li>Unchanged  (Only 0) ---> 0 </li>\n",
    "    <li>Small Changes (1 or 2) ---> 1 </li>\n",
    "    <li>Medium Changes (3 to 6) ---> 2 </li>\n",
    "    <li>Large Changes (Over 6) ---> 3 </li>  \n",
    "    </ul>\n",
    "\n",
    "<b>N° Majority Parties:</b>\n",
    "    <ul>\n",
    "    <li>Single Party Majority (Only 1) ---> 0 </li>\n",
    "    <li>Coalition Majority (2 to 4) ---> 1 </li>\n",
    "    <li>Broad Coalition Majority (Over 5) ---> 2 </li>\n",
    "    </ul>\n",
    "\n",
    "<b>N° Opposition Parties:</b>\n",
    "    <ul>\n",
    "    <li>Single Party Opposition (Only 1) ---> 0  </li>\n",
    "    <li>Differentiated Opposition (2 to 4) ---> 1 </li>\n",
    "    <li>Fragmented Opposition (Over 5) ---> 2 </li>\n",
    "    </ul>\n",
    "\n",
    "<b>Fall Cause:</b>\n",
    "    <ul>\n",
    "    <li>External Pressure ---> 0 </li>\n",
    "    <li>Internal Struggle ---> 1 </li>\n",
    "    <li>End of Legislation ---> 2 </li>\n",
    "    <li>No confidence ---> 3 </li>\n",
    "    <li>Lost Confidence ---> 4 </li>\n",
    "    <li>Reshuffle ---> 5 </li>\n",
    "    </ul>\n",
    "\n",
    "<b>First Year:</b>\n",
    "<p>Starting years were split according to their decade and assigned a label from 0 (for the 40s) to 8 (for the 2020s).</p>\n",
    "\n",
    "<b>Legislation:</b>\n",
    "<p>As this information may have been redundant, given we are already considering the starting year, it was used to highlight a distinction between the two informally defined phases of the Italian Republic, labelled \"First Republic\" and \"Second Republic\", the second of which started with the 12th Legislation, when a completely different array of parties was elected in the Parliament. The distinction is then encoded with 1 for the First republic and 2 for the Second.</p>\n",
    "\n",
    "<b>Boolean Values:</b>\n",
    "<p>All boolean values were encoded as 0 for False and 1 for True.</p>\n",
    "</div>\n",
    "\n",
    "<b>Assigning new names to the columns</b>\n",
    "<div>\n",
    "    <p>As a consequence of the discretization some colums came to express a slight different meaning from the original, so they were renamed according to their new meaining:</p>\n",
    "    <ul>\n",
    "    <li>Effective Time in Charge ---> Stability </li>\n",
    "    <li>Tot % Majority ---> Parliamentary Support</li>\n",
    "    <li>Tot % Opposition ---> Parliamentary Opposition</li>\n",
    "    <li>Tot DI Majority ---> Majority Division</li>\n",
    "    <li>Tot DI Opposition ---> Opposition Division</li>\n",
    "    <li>DI Parties in Government ---> Government Division</li>\n",
    "    <li>Tot Gov. Members ---> Size of Government</li>\n",
    "    <li>Swapped Ministers ---> Internal Changes</li>\n",
    "    <li>N° Majority Parties ---> N° Majority Parties</li>\n",
    "    <li>N° Opposition Parties ---> N° Opposition Parties</li>\n",
    "    <li>First Year ---> Decade</li>\n",
    "    <li>Legislation ---> Republic Phase</li>\n",
    "    <li>Confidence ---> Confidence</li>\n",
    "    <li>Fall Cause ---> Fall Cause</li>\n",
    "    <li>PM from Largest Majority Party ---> PM from Largest Majority Party</li>\n",
    "    <li>Technocrat/Independent PM ---> Technocrat/Independent PM</li>\n",
    "    </ul>\n",
    "</div>"
   ]
  },
  {
   "cell_type": "code",
   "execution_count": 5,
   "id": "688ebc6b-fb9f-438c-9836-12d84a37b4f0",
   "metadata": {},
   "outputs": [],
   "source": [
    "#Building the Network\n",
    "\n",
    "#Definition of the Causal Links\n",
    "model_gov = BayesianNetwork(\n",
    "    [('Decade', 'Republic Phase'),\n",
    "     ('Decade', 'Opposition Division'),\n",
    "     ('Decade', 'Majority Division'),\n",
    "     ('Republic Phase', 'N° Majority Parties'),\n",
    "     ('Republic Phase', 'N° Opposition Parties'),\n",
    "     ('Majority Division', 'Parliamentary Support'),\n",
    "     ('Majority Division', 'PM from Largest Majority Party'),\n",
    "     ('Majority Division', 'Government Division'),\n",
    "     ('N° Majority Parties', 'Parliamentary Support'),\n",
    "     ('N° Majority Parties', 'Government Division'),\n",
    "     ('N° Majority Parties', 'Majority Division'),\n",
    "     ('N° Majority Parties', 'PM from Largest Majority Party'),\n",
    "     ('N° Majority Parties', 'Technocrat/Independent PM'),\n",
    "     ('N° Opposition Parties', 'Parliamentary Opposition'),\n",
    "     ('N° Opposition Parties', 'Opposition Division'),\n",
    "     ('Opposition Division', 'Parliamentary Opposition'),\n",
    "     ('Parliamentary Support','Size of Government'),\n",
    "     ('Parliamentary Support','Stability'),\n",
    "     ('Parliamentary Support','Confidence'),\n",
    "     ('Parliamentary Support','Technocrat/Independent PM'),\n",
    "     ('Government Division', 'Stability'), \n",
    "     ('Government Division', 'Fall Cause'),\n",
    "     ('Parliamentary Opposition', 'Stability'), \n",
    "     ('Parliamentary Opposition', 'Fall Cause'),    \n",
    "     ('Size of Government', 'Internal Changes'),\n",
    "     ('PM from Largest Majority Party','Confidence'),\n",
    "     ('PM from Largest Majority Party', 'Stability'),\n",
    "     ('Technocrat/Independent PM', 'Confidence'),\n",
    "     ('Technocrat/Independent PM', 'Stability'),\n",
    "     ('Internal Changes', 'Stability'),\n",
    "     ('Internal Changes', 'Fall Cause'),\n",
    "     ('Confidence', 'Fall Cause'),\n",
    "    ]\n",
    ")\n"
   ]
  },
  {
   "cell_type": "markdown",
   "id": "e3b3fbb1-abc6-4837-ab5b-63c107fb1991",
   "metadata": {},
   "source": [
    "<h4>Graphical representation of the network</h4>\n",
    "<img src=\"Bayesian_Network_Final.png\"/>"
   ]
  },
  {
   "cell_type": "markdown",
   "id": "cb752f24-fb26-4e23-8047-5bbd55e19a6b",
   "metadata": {},
   "source": [
    "<h4>Building the Network</h4>\n",
    "<p>The network was designed trying to draw the most important connections inside the available data:</p>\n",
    "<div>\n",
    "<ul>\n",
    "<li><b>Decade</b> has a causal link to <b>Republic Phase</b> because the whole distinction between the journalistic terms \"First Republic\" and \"Second Republic\" hinges on the politcal turmoil of the early 90's which lead to great changes in the political party landscape. As a concequence, the decade we're considering higly influences if we're looking at the first or second republic period. </li>\n",
    "\n",
    "<li><b>Decade</b> has a causal link to <b>Opposition Division</b> because across different years and decades the same set of parties may greatly change in terms of distributions of seats, leading to a more compact or fragmented opposition front.</li>\n",
    "\n",
    "<li><b>Decade</b> has a causal link to <b>Majority Division</b> for symmetry with the one with Opposition Division as time passing may affect all political parties on both sides.</li>\n",
    "\n",
    "<li><b>Republic Phase</b> has a causal link to <b>N° Majority Parties</b> because the passage itself between first and second republic can be attributed to a great change in the political parties landscape: as large parties dissolved in the early 90's we expect to see more parties in the second republic phase rather than the first. </li>\n",
    "\n",
    "<li><b>Republic Phase</b> has a causal link to <b>N° Opposition Parties</b> for symmetry with the one with N° Majority Parties. </li>\n",
    "\n",
    "<li><b>Majority Division</b> has a causal link to <b>Parliamentary Support</b> because the more diverse the majority a that supports a government is, the larger we expect the support to be as it maymean that many larger parties decided to ally to support the same government because none of them could support one by itself.</li>\n",
    "\n",
    "<li><b>Majority Division</b> has a causal link to <b>Government Division</b> because a more diverse majority is more likely to support a governemnt which contains members from more parties, as each supporting party would claim one or more ministry depending on their strength. </li>\n",
    "\n",
    "<li><b>Majority Division</b> has a causal link to <b>PM from Largest Majority Party/b> because a majority strongly led by one party is more probale to elect a PM from said party. </li>\n",
    "\n",
    "<li><b>N° Majority Parties</b> has a causal link to <b>Parliamentary Support</b> because governments supported by lots of parties tend to receive a larger support than governments formed by fewer ones.</li>\n",
    "\n",
    "<li><b>N° Majority Parties</b> has a causal link to <b>Government Division</b> because even if a party is the strongest one in a coalition, the presence of more parties may influence the number of ministers from other parties, thus increasing the diversity in government seats. </li>\n",
    "\n",
    "<li><b>N° Majority Parties</b> has a causal link to <b>Majority Division</b> because a higher number of parties in the same coalition makes the coalition itself more diversified.</li>\n",
    "\n",
    "<li><b>N° Majority Parties</b> has a causal link to <b>PM from Largest Majority Party</b> because fewer parties inside a coalition sould increas the probability that the PM will be chosen from the largest party inside the coalition. </li>\n",
    "\n",
    "<li><b>N° Majority Parties</b> has a causal link to <b>Technocrat/Independent PM</b> because larger coalitions of parties, which are common to form in crisis situation, are more probable to be lead by an independent PM, in order to avoid conflicts between parties. </li>\n",
    "\n",
    "<li><b>N° Opposition Parties</b> has a causal link to <b>Parliamentary Opposition</b> because a higher number of opposition parties rises the chances of having a larger opposition front.  </li>\n",
    "\n",
    "<li><b>N° Opposition Parties</b> has a causal link to <b>Opposition Division</b> because as the nubmer of opposition parties grows it's more likely for ideologies to differ and for the opposition itself to be more fragmented.</li>\n",
    "\n",
    "<li><b>Opposition Division</b> has a causal link to <b>Parliamentary Opposition</b> because in some cases, depending on the electroral law, a fragmented opposition may end up electing less seats than a unified one.</li>\n",
    "\n",
    "<li><b>Parliamentary Support</b> has a causal link to <b>Size of Government</b> because larger support from the parliament come from the government promising to deal with multiple issues, which can be achieved by instituting new ministries, thus increasing the size of the government. </li>\n",
    "\n",
    "<li><b>Parliamentary Support</b> has a causal link to <b>Stability</b> because a smaller support is more likely to be compromised by the actions of one party or few representatives or senators, thus leading to the fall of such government. </li>\n",
    "\n",
    "<li><b>Parliamentary Support</b> has a causal link to <b>Confidence</b> because the entire concept of confidence hinges on the necessity of parliamentary support, minority governments are extrimely uncommon in Italian History. </li>\n",
    "\n",
    "<li><b>Parliamentary Support</b> has a causal link to <b>Technocrat/Independent PM</b> because very large supports from the parliament are mostly achieved in crisis situations, when an independent PM is nominated in an attemp to appease the largest number of parties possible. </li>\n",
    "\n",
    "<li><b>Government Division</b> has a causal link to <b>Stability</b> because a more fractured governemnt is more subject to internal constrasts, which makes it more probable to fall.</li>\n",
    "\n",
    "<li><b>Government Division</b> has a causal link to <b>Fall Cause</b> because division inside the government coalition enhance the probabilities of the governemnt falling for internal struggles. </li>\n",
    "\n",
    "<li><b>Parliamentary Opposition</b> has a causal link to <b>Stability</b> because a stronger opposition has higher chances of challenging the government enough to make it fall. </li>\n",
    "\n",
    "<li><b>Parliamentary Opposition</b> has a causal link to <b>Fall Cause</b> because a stronger opposition enhances the probabilities of the government falling for external pressure. </li>\n",
    "\n",
    "<li><b>Size of Government</b> has a causal link to <b>Internal Changes</b> because larger governement have more chances of being subject to changes. </li>\n",
    "\n",
    "<li><b>PM from Largest Majority Party</b> has a causal link to <b>Confidence</b> because sometimes the imposition of a PM from the largest party results in the PM being denied confidence by the parliament.  </li>\n",
    "\n",
    "<li><b>PM from Largest Majority Party</b> has a causal link to <b>Stability</b> because is considered more legitimated by the parliament if he comes from the largest party in the majority, leading to stability. On the other hand, as its choice was determined by the election results, its legitimacy may waver if recent polls amongst the citizens its belonging party lost its relevance.  </li>\n",
    "\n",
    "<li><b>Technocrat/Independent PM</b> has a causal link to <b>Confidence</b> because independent/technocrat PMs are usually chosen when the state finds itself into a crisis situation or when it's attempting to solve a political stallmate, meaning that once the PMs has been chosen, its likely to gain confidence. </li>\n",
    "\n",
    "<li><b>Technocrat/Independent PM</b> has a causal link to <b>Stability</b> because in case the independent/technocrat PM was chosen to lead the country through a crisis period, its more likely for its government to be stable. </li>\n",
    "\n",
    "<li><b>Intenal Changes</b> has a causal link to <b>Stability</b> because many changes inside a governement may be a red flag for turmoil inside the government. </li>\n",
    "\n",
    "<li><b>Intenal Changes</b> has a causal link to <b>Fall Cause</b> because many changes inside the government may forshadow the government falling for internal struggles. </li>\n",
    "\n",
    "<li><b>Confidence</b> has a causal link to <b>Fall Cause</b> because a government which was denied confidence must fall beacuse of it.</li>\n",
    "\n",
    "<li><b>Confidence</b> has a causal link to <b>Stability</b> because a government which was denied confidence shall fall immediately.</li>\n",
    "</ul>\n",
    "</div>"
   ]
  },
  {
   "cell_type": "code",
   "execution_count": 14,
   "id": "ce2921da-2dfe-4a47-b0f2-43ec5ebda040",
   "metadata": {},
   "outputs": [],
   "source": [
    "%%capture cap\n",
    "# Fit the data to the Bayesian Network to obtain the CPTs\n",
    "model_gov.cpds = []\n",
    "model_gov.fit(df)\n",
    "\n",
    "from pgmpy.factors.discrete.CPD import TabularCPD\n",
    "\n",
    "def print_full(cpd):\n",
    "    backup = TabularCPD._truncate_strtable\n",
    "    TabularCPD._truncate_strtable = lambda self, x: x\n",
    "    print(cpd)\n",
    "    TabularCPD._truncate_strtable = backup\n",
    "\n",
    "\n",
    "# Print all the learned CPTs\n",
    "for cpd in model_gov.get_cpds():\n",
    "    print('CPT of {}'.format(cpd.variable))\n",
    "    print_full(cpd)\n",
    "    print('\\n')\n",
    "with open('CPDs.txt', 'w', encoding='utf-8') as file:\n",
    "    file.write(cap.stdout)\n"
   ]
  },
  {
   "cell_type": "markdown",
   "id": "08d0b3b5-0533-450e-9a88-d1bc344840c8",
   "metadata": {},
   "source": [
    "<h4>Fitting the Network</h4>\n",
    "<div>\n",
    "  The network was fit with all the values inside the dataset, we then print all the Conditional Probability Tables to have a quick overview of the results.  \n",
    "</div>"
   ]
  },
  {
   "cell_type": "code",
   "execution_count": 7,
   "id": "5b4d93be-69d0-4105-bf8e-8bf58999f619",
   "metadata": {},
   "outputs": [],
   "source": [
    "#Queries\n",
    "#We'll perform the queries using Variable Elimination\n",
    "gov_inference_VE = VariableElimination(model_gov)\n",
    "gov_inference_BP = BeliefPropagation(model_gov)\n",
    "\n",
    "#Definition of Function to perform different types of Queries without considering encoding\n",
    "label_encode_dict = {\n",
    "    'Stability':{'Unstable':0, 'Weak stability':1, 'Average stability':2,'Solid stability':3,'High stability':4,},\n",
    "    'Parliamentary Support':{'No majority':0, 'Weak majorty':1, 'Strong majority':2, 'Constitutional majority':3,},\n",
    "    'Parliamentary Opposition':{'Weak opposition':0, 'Medium opposition':1, 'Strong opposition':2, 'Potential new majority':3,},\n",
    "    'Majority Division':{'Single party majority':0, 'Nearly one sided majority':1, 'Strong lead majority':2, 'Fragmented majority':3, 'Multi-headed majority':4,},\n",
    "    'Opposition Division':{'Cohesive Opposition':0, 'Diverse Opposition':1, 'Fragmented Opposition':2, 'Higly Fragmented/ Multi-Headed Opposition':3,},\n",
    "    'Government Division':{'Monochromatic Government':0, 'Governement with Leading Party':1, 'Coalition Government':2, 'Large Coalition Government':3, 'Super Coalition/National Unity Government':4,},\n",
    "    'Size of Government':{'Small Government':0, 'Medium Government':1,'Large Government':2,},\n",
    "    'Internal Changes':{'Unchanged':0, 'Small Changes':1, 'Medium Changes':2, 'Large Changes':3,},\n",
    "    'N° Majority Parties':{'Single Party Majority':0, 'Coalition Majority':1, 'Broad Coalition Majority':2,},\n",
    "    'N° Opposition Parties':{'Single Party Opposition':0, 'Differentiated Opposition':1, 'Fragmented Opposition':2,},\n",
    "    'Decade':{'40s':0,'50s':1,'60s':2,'70s':3,'80s':4,'90s':5,'2000s':6,'2010s':7,'2020s':8,},\n",
    "    'Republic Phase':{'First Republic':1, 'Second Republic':2,},\n",
    "    'Confidence':{'True':1,'False':0,},\n",
    "    'Fall Cause':{'External Pressure':0, 'Internal Struggle':1, 'End of Legislation':2, 'No confidence':3, 'Lost Confidence':4, 'Reshuffle':5,},\n",
    "    'PM from Largest Majority Party':{'True':1,'False':0,},\n",
    "    'Technocrat/Independent PM':{'True':1,'False':0,},\n",
    "}\n",
    "\n",
    "label_decode_dict = {\n",
    "    'Stability':{0:'Unstable', 1:'Weak stability', 2:'Average stability',3:'Solid stability',4:'High stability',},\n",
    "    'Parliamentary Support':{0:'No majority', 1:'Weak majorty', 2:'Strong majority', 3:'Constitutional majority',},\n",
    "    'Parliamentary Opposition':{0:'Weak opposition', 1:'Medium opposition', 2:'Strong opposition', 3:'Potential new majority',},\n",
    "    'Majority Division':{0:'Single party majority', 1:'Nearly one sided majority', 2:'Strong lead majority', 3:'Fragmented majority', 4:'Multi-headed majority',},\n",
    "    'Opposition Division':{0:'Cohesive Opposition', 1:'Diverse Opposition', 2:'Fragmented Opposition', 3:'Higly Fragmented/ Multi-Headed Opposition',},\n",
    "    'Government Division':{0:'Monochromatic Government', 1:'Governement with Leading Party', 2:'Coalition Government', 3:'Large Coalition Government', 4:'Super Coalition/National Unity Government',},\n",
    "    'Size of Government':{0:'Small Government', 1:'Medium Government',2:'Large Government',},\n",
    "    'Internal Changes':{0:'Unchanged', 1:'Small Changes', 2:'Medium Changes', 3:'Large Changes',},\n",
    "    'N° Majority Parties':{0:'Single Party Majority', 1:'Coalition Majority', 2:'Broad Coalition Majority',},\n",
    "    'N° Opposition Parties':{0:'Single Party Opposition', 1:'Differentiated Opposition', 2:'Fragmented Opposition',},\n",
    "    'Decade':{0:'40s',1:'50s',2:'60s',3:'70s',4:'80s',5:'90s',6:'2000s',7:'2010s',8:'2020s',},\n",
    "    'Republic Phase':{1:'First Republic', 2:'Second Republic',},\n",
    "    'Confidence':{1:'True',0:'False',},\n",
    "    'Fall Cause':{0:'External Pressure', 1:'Internal Struggle', 2:'End of Legislation', 3:'No confidence', 4:'Lost Confidence', 5:'Reshuffle',},\n",
    "    'PM from Largest Majority Party':{1:'True',0:'False',},\n",
    "    'Technocrat/Independent PM':{1:'True',0:'False',},\n",
    "}\n",
    "\n",
    "\n",
    "def multi_query(model, variables, evidences, virtual_evidences=None, type='Direct', out=False):\n",
    "     ev_dict = {}\n",
    "     print(f\">>>{type} Query for {variables} given the following hard evidences:\\n\")        \n",
    "     for e in evidences.keys():\n",
    "        ev_dict[e] = label_encode_dict[e][evidences[e]]\n",
    "        print(f\"{e} is {evidences[e]}\")\n",
    "     if type=='Direct':\n",
    "        q = model.query(variables=variables, evidence=ev_dict, virtual_evidence=virtual_evidences)\n",
    "     elif type=='Map':\n",
    "        q = model.map_query(variables=variables, evidence=ev_dict, virtual_evidence=virtual_evidences)\n",
    "     else:\n",
    "        print(f'There is not such type of query as {type}')\n",
    "        return\n",
    "\n",
    "    \n",
    "     if type=='Map':\n",
    "        for k in variables:\n",
    "            print(f\"{k} is expected to be: {label_decode_dict[k][int(q[k])]}\")\n",
    "     else:\n",
    "        print(q)\n",
    "\n",
    "     if out:\n",
    "        return q\n"
   ]
  },
  {
   "cell_type": "markdown",
   "id": "2e85ebd6-10d3-4df9-b194-93ec86ac550e",
   "metadata": {},
   "source": [
    "<h4>Making some Queries</h4>\n",
    "\n",
    "<p> Now that we fit the network we are ready to perform some queries on it, in order to perform them without the need to constantly refer to the encoding above a dictionary was defined to perform the conversion. An auxiliary function was also defined to enclose all query types into one function.</p>"
   ]
  },
  {
   "cell_type": "markdown",
   "id": "514f957d-27a9-4600-9f0a-903edf971f9d",
   "metadata": {},
   "source": [
    "<h5>Test Query</h5>\n",
    "Before we start with actual predictive queries it's important to verify that our model can at least predict what should be obvious, so a test query needs to be performed. The chosen test is to predict that every government which was denied confidence fell for the same reason. This is an necessary outcome and one of the rare instances of an exact political process so it's a good candidate to be a test. "
   ]
  },
  {
   "cell_type": "code",
   "execution_count": 8,
   "id": "9a765d37-9482-4f40-b0e7-fb4ee1ff7445",
   "metadata": {},
   "outputs": [
    {
     "name": "stdout",
     "output_type": "stream",
     "text": [
      "TEST QUERY==================================================\n",
      ">>>Map Query for ['Stability', 'Fall Cause'] given the following hard evidences:\n",
      "\n",
      "Confidence is False\n"
     ]
    },
    {
     "data": {
      "application/vnd.jupyter.widget-view+json": {
       "model_id": "dee324b70ee441d7999bf19e52ad759c",
       "version_major": 2,
       "version_minor": 0
      },
      "text/plain": [
       "  0%|          | 0/13 [00:00<?, ?it/s]"
      ]
     },
     "metadata": {},
     "output_type": "display_data"
    },
    {
     "data": {
      "application/vnd.jupyter.widget-view+json": {
       "model_id": "82b06856ff5345c4bd8c5e6d9ea0866d",
       "version_major": 2,
       "version_minor": 0
      },
      "text/plain": [
       "  0%|          | 0/13 [00:00<?, ?it/s]"
      ]
     },
     "metadata": {},
     "output_type": "display_data"
    },
    {
     "name": "stdout",
     "output_type": "stream",
     "text": [
      "Stability is expected to be: Unstable\n",
      "Fall Cause is expected to be: No confidence\n",
      "============================================================\n",
      "\n",
      "\n"
     ]
    }
   ],
   "source": [
    "#Test Query - Which is the Probability that a Government which was denied confidence to be unstable and fall because of it?\n",
    "print(\"TEST QUERY\" + 50*\"=\")\n",
    "multi_query(model=gov_inference_VE, variables=['Stability','Fall Cause'], evidences={'Confidence':'False'}, type='Map')\n",
    "print(60*\"=\" + '\\n\\n')"
   ]
  },
  {
   "cell_type": "markdown",
   "id": "282259fc-6cf2-464d-9348-96d5910c7a1b",
   "metadata": {},
   "source": [
    "<h6>Test Query - Comments</h6>\n",
    "<p>From the test query we can clearly see that, assuming that the government was denied confidence, it's more probable for it to be extremly short lived and is certain to fall due to lack of confidence. This confirms the ability of the model to predict logical political relationships.</p>"
   ]
  },
  {
   "cell_type": "markdown",
   "id": "4bbbf3d0-08cd-4402-8114-ab11a6538328",
   "metadata": {},
   "source": [
    "<h5>First Query</h5>\n",
    "\n",
    "<p>Given the fit model we now possess we may now try to make some predictions. As we have a model which can approximately predict the stability and fall cause for a government the first query which comes to mind is predict such values for the current government, which wasn't condidered in the dataset. So, after computing the values which influence the most stability and fall cause we can make a prediction.</p>"
   ]
  },
  {
   "cell_type": "code",
   "execution_count": 9,
   "id": "8a4d7ebd-5843-4a8f-87b1-af74c4c75dd7",
   "metadata": {},
   "outputs": [
    {
     "name": "stdout",
     "output_type": "stream",
     "text": [
      "FIRST QUERY==================================================\n",
      ">>>Map Query for ['Stability', 'Fall Cause'] given the following hard evidences:\n",
      "\n",
      "Parliamentary Support is Strong majority\n",
      "Parliamentary Opposition is Medium opposition\n",
      "Government Division is Super Coalition/National Unity Government\n",
      "PM from Largest Majority Party is True\n",
      "Technocrat/Independent PM is False\n",
      "Confidence is True\n"
     ]
    },
    {
     "data": {
      "application/vnd.jupyter.widget-view+json": {
       "model_id": "c2e5332cdf6740a580ab2b3849aa471d",
       "version_major": 2,
       "version_minor": 0
      },
      "text/plain": [
       "  0%|          | 0/2 [00:00<?, ?it/s]"
      ]
     },
     "metadata": {},
     "output_type": "display_data"
    },
    {
     "data": {
      "application/vnd.jupyter.widget-view+json": {
       "model_id": "79a1017dba8d46e6b071250d5bccc61f",
       "version_major": 2,
       "version_minor": 0
      },
      "text/plain": [
       "  0%|          | 0/2 [00:00<?, ?it/s]"
      ]
     },
     "metadata": {},
     "output_type": "display_data"
    },
    {
     "name": "stdout",
     "output_type": "stream",
     "text": [
      "Stability is expected to be: Average stability\n",
      "Fall Cause is expected to be: Reshuffle\n",
      "============================================================\n",
      "\n",
      "\n"
     ]
    }
   ],
   "source": [
    "#First Query - What is the predicted stability of the current governement and how will it fall down?\n",
    "print(\"FIRST QUERY\" + 50*\"=\")\n",
    "multi_query(model=gov_inference_VE, variables=['Stability','Fall Cause'], evidences={\n",
    "    #'Decade':'2020s', #2024\n",
    "    #'Republic Phase':'Second Republic',\n",
    "    #'N° Majority Parties':'Coalition Majority', #4\n",
    "    #'N° Opposition Parties':'Differentiated Opposition', #4\n",
    "    #'Majority Division':'Fragmented majority', #63\n",
    "    #'Opposition Division':'Fragmented Opposition', #71\n",
    "    'Parliamentary Support':'Strong majority', #58\n",
    "    'Parliamentary Opposition':'Medium opposition',#42 \n",
    "    'Government Division': 'Super Coalition/National Unity Government',#81\n",
    "    #'Size of Government': 'Medium Government',#27\n",
    "    'PM from Largest Majority Party':'True', #True\n",
    "    'Technocrat/Independent PM':'False', #False\n",
    "    #'Internal Changes':'Unchanged', #0\n",
    "    'Confidence':'True', #True\n",
    "}, type='Map')\n",
    "print(60*\"=\" + '\\n\\n')"
   ]
  },
  {
   "cell_type": "markdown",
   "id": "2509e6f0-3f54-4413-a902-d34e5d87d381",
   "metadata": {},
   "source": [
    "<h6>First Query - Comments</h6>\n",
    "<p>From what we can see, based on previous data, the current government is expected to have an average stability and to fall to perform a reshuffle of its components. Unfortunately for our model's prediction capability, the first outcome is not correct, as the current government already lasted more than 500 days, thus putting it at least in the Solid Stability category, but the second prediction may still become true as in the current political situation (as of 23/03/2024) there seems to be no alternative coalition which can effectively support another government, thus leaving two main options in case this government falls: either the same colaition agrees to support another, slightly modified government (causing a reshuffle) or the legislation will end and the country will have snap elections to elect a new parliament.  </p>"
   ]
  },
  {
   "cell_type": "markdown",
   "id": "7f9cbbf1-3f9b-4e9c-9a72-b3f85320cfc4",
   "metadata": {},
   "source": [
    "<h5>Second Query</h5>\n",
    "\n",
    "<p>When presented with a situation of social, political or economical instability the President of the Republic may designate as Prime Minister a figure which comes from outside the political spectrum despite being well known for other achievements in governance-related fields. In other occasions, a similar phenomenon may be proposed by the parties themselves, proposing an independent figure to the President as a way to find a common ground between their agendas. In these case we end up with a Technocrat or and Independent PM. We now want to ask the model if this is an effective choice to obtain a stable government founded on a large parliamentary majority or if it is just a misconception.</p>"
   ]
  },
  {
   "cell_type": "code",
   "execution_count": 10,
   "id": "76880df1-bbdb-4549-9160-bfccac269b4c",
   "metadata": {},
   "outputs": [
    {
     "name": "stdout",
     "output_type": "stream",
     "text": [
      "SECOND QUERY==================================================\n",
      ">>>Map Query for ['Stability'] given the following hard evidences:\n",
      "\n",
      "Parliamentary Support is Strong majority\n",
      "Technocrat/Independent PM is True\n"
     ]
    },
    {
     "data": {
      "application/vnd.jupyter.widget-view+json": {
       "model_id": "e2b1f59f710b45f7964b41f6bf4dfe44",
       "version_major": 2,
       "version_minor": 0
      },
      "text/plain": [
       "  0%|          | 0/11 [00:00<?, ?it/s]"
      ]
     },
     "metadata": {},
     "output_type": "display_data"
    },
    {
     "data": {
      "application/vnd.jupyter.widget-view+json": {
       "model_id": "c37deed0aa3543f19438cf2d6d0f7a36",
       "version_major": 2,
       "version_minor": 0
      },
      "text/plain": [
       "  0%|          | 0/11 [00:00<?, ?it/s]"
      ]
     },
     "metadata": {},
     "output_type": "display_data"
    },
    {
     "name": "stdout",
     "output_type": "stream",
     "text": [
      "Stability is expected to be: Solid stability\n",
      "\n",
      "\n",
      ">>>Map Query for ['Stability'] given the following hard evidences:\n",
      "\n",
      "Parliamentary Support is Strong majority\n",
      "PM from Largest Majority Party is True\n"
     ]
    },
    {
     "data": {
      "application/vnd.jupyter.widget-view+json": {
       "model_id": "1ad20ec9af5f41c3b261206b65813d52",
       "version_major": 2,
       "version_minor": 0
      },
      "text/plain": [
       "  0%|          | 0/11 [00:00<?, ?it/s]"
      ]
     },
     "metadata": {},
     "output_type": "display_data"
    },
    {
     "data": {
      "application/vnd.jupyter.widget-view+json": {
       "model_id": "7c860639056245bc9bfb32f458d1a784",
       "version_major": 2,
       "version_minor": 0
      },
      "text/plain": [
       "  0%|          | 0/11 [00:00<?, ?it/s]"
      ]
     },
     "metadata": {},
     "output_type": "display_data"
    },
    {
     "name": "stdout",
     "output_type": "stream",
     "text": [
      "Stability is expected to be: Weak stability\n",
      "============================================================\n",
      "\n",
      "\n"
     ]
    }
   ],
   "source": [
    "#Second Query - Is it true that, given a strong parliamentary support, a Technocrat-lead government is more stable than a Political one?\n",
    "print(\"SECOND QUERY\" + 50*\"=\")\n",
    "multi_query(model=gov_inference_VE, variables=['Stability'], evidences={'Parliamentary Support':'Strong majority', 'Technocrat/Independent PM':'True',}, type='Map')\n",
    "print('\\n')\n",
    "multi_query(model=gov_inference_VE, variables=['Stability'], evidences={'Parliamentary Support':'Strong majority', 'PM from Largest Majority Party':'True',}, type='Map')\n",
    "print(60*\"=\" + '\\n\\n')"
   ]
  },
  {
   "cell_type": "markdown",
   "id": "95266733-7b89-4c7c-986c-fc33dbea4d7b",
   "metadata": {},
   "source": [
    "<h6>Second Query - Comments</h6>\n",
    "\n",
    "<p>We have two queries, in both we used as hard evidence the knowledge of strong parliamentary majority but in the first assumed a government led by a Technocrat, while in the second we assumed as PM a member of the largest majority party, and we tried to predict the stability of the government. From the results we can observe that our initial hypothesis wasn't a misconception as in the first case we end up with a predicted strong stability while in the second we have a weak one. This can be explained if we consider that a government founded on a large support may encounter more problems when it comes to clashes in political agendas between parties. If we suppose that an impartial leader has higher chances of solving such issues with respect to a politically aligned one, without encurring in a political crisis.</p>"
   ]
  },
  {
   "cell_type": "markdown",
   "id": "ead0147c-78b3-4b87-b42f-952ac4ea1bb8",
   "metadata": {},
   "source": [
    "<h5>Third Query</h5>\n",
    "\n",
    "<p>Next we want to interrogate our model on political crisis scenario, it's reasonable to assume that, in situations where the country found itslef on a dire situation, the presence of a strong opposition against the government may hava caused some of its member parties to withdraw their support, thus leading to the government fall, usually through resignation of the PM. In these cases the external pressure, enchanced by the strength of the opposition used the internal division of the government as a leverage to make it fall. Supposing we want to find evidence for this claim we suppose as evidence the fall cause by external pressure and the presence of a strong opposition and we compute the CPT for government division.</p>"
   ]
  },
  {
   "cell_type": "code",
   "execution_count": 11,
   "id": "e08090d0-c7e6-4757-8aea-656996e30949",
   "metadata": {},
   "outputs": [
    {
     "name": "stdout",
     "output_type": "stream",
     "text": [
      "THIRD QUERY==================================================\n",
      ">>>Direct Query for ['Government Division'] given the following hard evidences:\n",
      "\n",
      "Fall Cause is External Pressure\n",
      "Parliamentary Opposition is Strong opposition\n",
      "+------------------------+----------------------------+\n",
      "| Government Division    |   phi(Government Division) |\n",
      "+========================+============================+\n",
      "| Government Division(0) |                     0.0472 |\n",
      "+------------------------+----------------------------+\n",
      "| Government Division(1) |                     0.0268 |\n",
      "+------------------------+----------------------------+\n",
      "| Government Division(2) |                     0.1315 |\n",
      "+------------------------+----------------------------+\n",
      "| Government Division(3) |                     0.6111 |\n",
      "+------------------------+----------------------------+\n",
      "| Government Division(4) |                     0.1834 |\n",
      "+------------------------+----------------------------+\n",
      "============================================================\n",
      "\n",
      "\n"
     ]
    }
   ],
   "source": [
    "#Third Query - If we know that a government fell for external pressure and we know it had a strong opposition, what are the probabilities \n",
    "# of it being divided in its composition?\n",
    "print(\"THIRD QUERY\" + 50*\"=\")\n",
    "multi_query(model=gov_inference_VE, variables=['Government Division'], evidences={'Fall Cause':'External Pressure', 'Parliamentary Opposition':'Strong opposition',}, type='Direct')\n",
    "print(60*\"=\" + '\\n\\n')"
   ]
  },
  {
   "cell_type": "markdown",
   "id": "774c5ac6-82a7-4ca9-94c2-e46e4390ec2a",
   "metadata": {},
   "source": [
    "<h6>Third Query - Comments</h6>\n",
    "\n",
    "<p>From what we can see in more than the 79% of the cases where there was a strong opposition and the government fell because of external pressure, we encounter a high division inside the government itself, this may suggest that a more politically diverse governement is more subject to opposition attacks which can compromise its integrity and lead to its eventual fall.</p>"
   ]
  },
  {
   "cell_type": "markdown",
   "id": "f3b84319-3298-4fc0-85e0-a5578a436830",
   "metadata": {},
   "source": [
    "<h5>Fourth Query</h5>\n",
    "\n",
    "<p>We'll now focus on studying the optimal conditions under which a stable government can be formed, usually, when parties join forces to form a coalition there may be turmoils regarding the number of ministries to assign to each party, as no party with some influence would willingly renounce to its agenda. We'll focus on governments which reached the end of their legislation having a solid or high stability, we'll try to obtain the best coupling between majority division and government division.</p>"
   ]
  },
  {
   "cell_type": "code",
   "execution_count": 12,
   "id": "91a09062-f462-4af6-bc46-d123940020d3",
   "metadata": {},
   "outputs": [
    {
     "name": "stdout",
     "output_type": "stream",
     "text": [
      "FOURTH QUERY==================================================\n",
      ">>>Map Query for ['Majority Division', 'Government Division'] given the following hard evidences:\n",
      "\n",
      "Stability is Solid stability\n",
      "Fall Cause is End of Legislation\n"
     ]
    },
    {
     "data": {
      "application/vnd.jupyter.widget-view+json": {
       "model_id": "dc3880f18731404fba513441734cad65",
       "version_major": 2,
       "version_minor": 0
      },
      "text/plain": [
       "  0%|          | 0/12 [00:00<?, ?it/s]"
      ]
     },
     "metadata": {},
     "output_type": "display_data"
    },
    {
     "data": {
      "application/vnd.jupyter.widget-view+json": {
       "model_id": "4c6e6571a16649a0ad997b6f81654ea2",
       "version_major": 2,
       "version_minor": 0
      },
      "text/plain": [
       "  0%|          | 0/12 [00:00<?, ?it/s]"
      ]
     },
     "metadata": {},
     "output_type": "display_data"
    },
    {
     "name": "stdout",
     "output_type": "stream",
     "text": [
      "Majority Division is expected to be: Fragmented majority\n",
      "Government Division is expected to be: Coalition Government\n",
      ">>>Map Query for ['Majority Division', 'Government Division'] given the following hard evidences:\n",
      "\n",
      "Stability is High stability\n",
      "Fall Cause is End of Legislation\n"
     ]
    },
    {
     "data": {
      "application/vnd.jupyter.widget-view+json": {
       "model_id": "a1dbb082ffde4df6bd1be10de88a680d",
       "version_major": 2,
       "version_minor": 0
      },
      "text/plain": [
       "  0%|          | 0/12 [00:00<?, ?it/s]"
      ]
     },
     "metadata": {},
     "output_type": "display_data"
    },
    {
     "data": {
      "application/vnd.jupyter.widget-view+json": {
       "model_id": "2147a454c2904d3088fb4038dbe7dbab",
       "version_major": 2,
       "version_minor": 0
      },
      "text/plain": [
       "  0%|          | 0/12 [00:00<?, ?it/s]"
      ]
     },
     "metadata": {},
     "output_type": "display_data"
    },
    {
     "name": "stdout",
     "output_type": "stream",
     "text": [
      "Majority Division is expected to be: Fragmented majority\n",
      "Government Division is expected to be: Large Coalition Government\n",
      "============================================================\n",
      "\n",
      "\n"
     ]
    }
   ],
   "source": [
    "#Fourth Query - If we want a Government have at least a Solid Stability and reach the end of legislation, what are the best configurations for\n",
    "# Majority Division and Government Division?\n",
    "print(\"FOURTH QUERY\" + 50*\"=\")\n",
    "multi_query(model=gov_inference_VE, variables=['Majority Division', 'Government Division'], evidences={'Stability':'Solid stability', 'Fall Cause':'End of Legislation',}, type='Map')\n",
    "multi_query(model=gov_inference_VE, variables=['Majority Division', 'Government Division'], evidences={'Stability':'High stability', 'Fall Cause':'End of Legislation',}, type='Map')\n",
    "print(60*\"=\" + '\\n\\n')"
   ]
  },
  {
   "cell_type": "markdown",
   "id": "3715723d-7893-455a-9918-cacb332d89b4",
   "metadata": {},
   "source": [
    "<h6>Fourth Query - Comments</h6>\n",
    "\n",
    "<p>From the obtained results we may make some reflections: first we can see that coalition and large coalition governments seem to be the most resilient, this may suggest that alliances between few parties with some common goals resist the most, assuming they overlook their differences. The idea of multiple points of view being a winning trait is also appearent in the other result about majority division, which is fragmented, suggesting that, if a fragmented majority succeeds in putting aside some of its differences, it may be capable of support the longest lived governments. This should't be too surprising as it's one of the basis for a parliamentary republic, which Italy is. Under this form of government it is expected for smaller parties to ally before or after every election instead of having large parties which single-handedly obtain a majority, like in the USA.</p>"
   ]
  },
  {
   "cell_type": "markdown",
   "id": "048b7221-7cfa-4dca-b1e4-87d7d74cdca0",
   "metadata": {},
   "source": [
    "<h5>Fifth Query</h5>\n",
    "\n",
    "<p>The constitution is the base set of rules under which a whole nation if founded in the contemporary era. Each nation has, however, the possiblity of changing these rules, in order to adapt them. In Italy the reform of the constitution is an extraordinary procedure which requirese strict conditions in order to avoid degenerative reforms. In order to perform a revision of the constitution, it's mandatory to have a so called 'Constitutional Supermajority' of over 66% of the parliament in both houses or a simple majority vote followed by a popular referendum vote. Either way requires, however, a lot of time as this kind of reforms is usually quite difficult to pass, expecially using the direct supermajority approach. A possible option may be to join forces between multiple parties to agree upon the reforms. What we now want to ask the model is: assuming we obtain the required supermajority, we first want to know which are the best conditions under which it can form in terms of numbers of parties forming it and internal division. Then, using these parameters we'll compute the stability of such government and its predicted fall cause.  </p>"
   ]
  },
  {
   "cell_type": "code",
   "execution_count": 31,
   "id": "58cb9412-7e45-43cd-8f8b-2fa4add3bbb2",
   "metadata": {},
   "outputs": [
    {
     "name": "stdout",
     "output_type": "stream",
     "text": [
      "FIFTH QUERY==================================================\n",
      ">>>Map Query for ['N° Majority Parties', 'Majority Division'] given the following hard evidences:\n",
      "\n",
      "Parliamentary Support is Constitutional majority\n"
     ]
    },
    {
     "data": {
      "application/vnd.jupyter.widget-view+json": {
       "model_id": "e6e7ef978c2c49bc8d3ab7c99ec686b7",
       "version_major": 2,
       "version_minor": 0
      },
      "text/plain": [
       "  0%|          | 0/2 [00:00<?, ?it/s]"
      ]
     },
     "metadata": {},
     "output_type": "display_data"
    },
    {
     "data": {
      "application/vnd.jupyter.widget-view+json": {
       "model_id": "86ee78271e554a15b01c53c52741a50e",
       "version_major": 2,
       "version_minor": 0
      },
      "text/plain": [
       "  0%|          | 0/2 [00:00<?, ?it/s]"
      ]
     },
     "metadata": {},
     "output_type": "display_data"
    },
    {
     "name": "stdout",
     "output_type": "stream",
     "text": [
      "N° Majority Parties is expected to be: Broad Coalition Majority\n",
      "Majority Division is expected to be: Fragmented majority\n",
      ">>>Map Query for ['Stability', 'Fall Cause'] given the following hard evidences:\n",
      "\n",
      "N° Majority Parties is Broad Coalition Majority\n",
      "Majority Division is Fragmented majority\n"
     ]
    },
    {
     "data": {
      "application/vnd.jupyter.widget-view+json": {
       "model_id": "85a110848c7844718ae94edc16c0722b",
       "version_major": 2,
       "version_minor": 0
      },
      "text/plain": [
       "  0%|          | 0/12 [00:00<?, ?it/s]"
      ]
     },
     "metadata": {},
     "output_type": "display_data"
    },
    {
     "data": {
      "application/vnd.jupyter.widget-view+json": {
       "model_id": "6d8a84adf7d442bfb44cd137b3e3148e",
       "version_major": 2,
       "version_minor": 0
      },
      "text/plain": [
       "  0%|          | 0/12 [00:00<?, ?it/s]"
      ]
     },
     "metadata": {},
     "output_type": "display_data"
    },
    {
     "name": "stdout",
     "output_type": "stream",
     "text": [
      "Stability is expected to be: Weak stability\n",
      "Fall Cause is expected to be: Internal Struggle\n",
      "============================================================\n",
      "\n",
      "\n"
     ]
    }
   ],
   "source": [
    "#Fifth Query - If a government aims at changing the constitution directly without consulting oppositions, how many parties should it contain,\n",
    "# if we suppose it needs have a solid stability to perform the reform from beginning to end?\n",
    "print(\"FIFTH QUERY\" + 50*\"=\")\n",
    "multi_query(model=gov_inference_VE, variables=['N° Majority Parties', 'Majority Division'], evidences={'Parliamentary Support':'Constitutional majority',}, type='Map')\n",
    "multi_query(model=gov_inference_VE, variables=['Stability', 'Fall Cause'], evidences={'N° Majority Parties':'Broad Coalition Majority', 'Majority Division':'Fragmented majority',}, type='Map')\n",
    "print(60*\"=\" + '\\n\\n')"
   ]
  },
  {
   "cell_type": "markdown",
   "id": "4f92577a-694f-4b37-8827-71f958648224",
   "metadata": {},
   "source": [
    "<h6>Fifth Query - Comments</h6>\n",
    "\n",
    "<p>From the results we obtained we can dedue that the conditions for a direct constitutional reform are indeed hard to meet, as expected a supermajority would usually require the partecipation of the largest possible number of parties, making the whole coalition extremely fragmented and as a consequence of this, internal conflict arise more easily. This leads directly in the results of the second part of the query, which preicts a weak stability for such a government, which seems doomed to fall for internal struggles.</p>"
   ]
  },
  {
   "cell_type": "markdown",
   "id": "87e94748-2d54-4175-9420-d649ade652ff",
   "metadata": {},
   "source": [
    "<h4>Conclusions</h4>\n",
    "\n",
    "<p>We now reached the end of our experiment and we can draw some conclusions. In this project a probabilistic model for analysing the political formation of Italian governements was presented and used to make some predictions, which, despite the many simplfications introduced, still turned out to be fairly resonable and this can be considered a success. During the development some of the relevant aspects for representing a country's political situation were omitted for the sake of simplicity but may still be integrated to obtain better results. Further imprvements may include the possibility of taking into account the effects of local election results on a national scale or, more geenrally, introduce the concept of political alignement inside the model, to better highlight different scenarios and improve predictions. </p>"
   ]
  }
 ],
 "metadata": {
  "kernelspec": {
   "display_name": "Python 3 (ipykernel)",
   "language": "python",
   "name": "python3"
  },
  "language_info": {
   "codemirror_mode": {
    "name": "ipython",
    "version": 3
   },
   "file_extension": ".py",
   "mimetype": "text/x-python",
   "name": "python",
   "nbconvert_exporter": "python",
   "pygments_lexer": "ipython3",
   "version": "3.11.0"
  }
 },
 "nbformat": 4,
 "nbformat_minor": 5
}
